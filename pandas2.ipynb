{
 "cells": [
  {
   "cell_type": "code",
   "execution_count": 1,
   "id": "937a4953",
   "metadata": {},
   "outputs": [],
   "source": [
    "import pandas as pd\n",
    "import matplotlib.pyplot as plt\n",
    "import numpy as np"
   ]
  },
  {
   "cell_type": "code",
   "execution_count": 3,
   "id": "e67045d4",
   "metadata": {},
   "outputs": [
    {
     "name": "stdout",
     "output_type": "stream",
     "text": [
      "1.5.2\n"
     ]
    }
   ],
   "source": [
    "print(pd.__version__)"
   ]
  },
  {
   "cell_type": "code",
   "execution_count": 88,
   "id": "d415d908",
   "metadata": {},
   "outputs": [
    {
     "name": "stdout",
     "output_type": "stream",
     "text": [
      "    X   Y   Z\n",
      "0  78  84  86\n",
      "1  85  94  97\n",
      "2  96  89  96\n",
      "3  80  83  72\n",
      "4  86  86  83\n"
     ]
    }
   ],
   "source": [
    "df = pd.DataFrame({'X':[78,85,96,80,86], 'Y':[84,94,89,83,86],'Z':[86,97,96,72,83]});\n",
    "print(df)\n",
    "# EQUAL\n",
    "data = {'X':[78,85,96,80,86], 'Y':[84,94,89,83,86],'Z':[86,97,96,72,83]}\n",
    "df = pd.DataFrame.from_dict(data)\n"
   ]
  },
  {
   "cell_type": "code",
   "execution_count": 10,
   "id": "13402410",
   "metadata": {},
   "outputs": [
    {
     "data": {
      "text/plain": [
       "2015 Sales    30\n",
       "2016 Sales    35\n",
       "2017 Sales    40\n",
       "Name: Product A, dtype: int64"
      ]
     },
     "execution_count": 10,
     "metadata": {},
     "output_type": "execute_result"
    }
   ],
   "source": [
    "pd.Series([30, 35, 40], index=['2015 Sales', '2016 Sales', '2017 Sales'], name='Product A')\n"
   ]
  },
  {
   "cell_type": "code",
   "execution_count": 27,
   "id": "7cd56698",
   "metadata": {},
   "outputs": [
    {
     "name": "stdout",
     "output_type": "stream",
     "text": [
      "   X  Y\n",
      "0  1  4\n",
      "1  2  5\n",
      "2  3  6 \n",
      "\n",
      "   X  Y  Z\n",
      "0  1  2  3\n",
      "1  4  5  6 \n",
      "\n",
      "        X  Y\n",
      "First   1  4\n",
      "Second  2  5\n",
      "Third   3  6 \n",
      " \n",
      "\n",
      "  Category  first  second\n",
      "0        X      1       4\n",
      "1        Y      2       5\n",
      "2        Z      3       6 \n",
      "\n",
      "          0  1  2\n",
      "Category  X  Y  Z\n",
      "first     1  2  3\n",
      "second    4  5  6 \n",
      "\n"
     ]
    }
   ],
   "source": [
    "data = {'X':[1,2,3], 'Y' :[4,5,6]}\n",
    "print(pd.DataFrame.from_dict(data), '\\n')\n",
    "\n",
    "data = [[1,2,3], [4,5,6]]\n",
    "print(pd.DataFrame(data, columns=['X', 'Y', 'Z']), '\\n')\n",
    "\n",
    "print(pd.DataFrame({'X': [1,2,3], 'Y':[4,5,6]}, index=['First', 'Second', 'Third']) ,'\\n \\n')\n",
    "\n",
    "data = {'Category':['X', 'Y', 'Z'], 'first':[1,2,3], 'second' : [4,5,6]}\n",
    "print(pd.DataFrame.from_dict(data), '\\n')\n",
    "print(pd.DataFrame.from_dict(data).transpose(), '\\n')   # Transpose of DataFrame"
   ]
  },
  {
   "cell_type": "code",
   "execution_count": 30,
   "id": "eb8627a5",
   "metadata": {},
   "outputs": [
    {
     "name": "stdout",
     "output_type": "stream",
     "text": [
      "        11  22  33\n",
      "First    1   5  10\n",
      "Second   2   6   9\n",
      "Third    3   7   8 \n",
      "\n",
      "    First  Second  Third\n",
      "11      1       2      3\n",
      "22      5       6      7\n",
      "33     10       9      8\n"
     ]
    }
   ],
   "source": [
    "data = [[1, 5, 10], [2, 6, 9], [3, 7, 8]]\n",
    "df = pd.DataFrame(data, index = [\"First\",'Second','Third'], columns=['11','22','33'])\n",
    "print(df, '\\n')\n",
    "print(df.transpose())"
   ]
  },
  {
   "cell_type": "code",
   "execution_count": 32,
   "id": "a5d6e609",
   "metadata": {},
   "outputs": [
    {
     "name": "stdout",
     "output_type": "stream",
     "text": [
      "Score      5     6     7     8\n",
      "Team                          \n",
      "John     NaN   NaN   NaN  17.0\n",
      "Michel   NaN   NaN  18.0   NaN\n",
      "Peter    NaN   NaN  18.0   NaN\n",
      "Riff     NaN  15.0   NaN   NaN\n",
      "Sheli   17.0   NaN   NaN   NaN\n"
     ]
    },
    {
     "name": "stderr",
     "output_type": "stream",
     "text": [
      "C:\\Users\\amins\\AppData\\Local\\Temp\\ipykernel_12648\\3054508486.py:11: FutureWarning: In a future version of pandas all arguments of DataFrame.pivot will be keyword-only.\n",
      "  a = df.pivot('Team', 'Score','Age')\n"
     ]
    }
   ],
   "source": [
    "# data in the form of list of tuples\n",
    "data = [('Peter', 18, 7),\n",
    "        ('Riff', 15, 6),\n",
    "    ('John', 17, 8),\n",
    "    ('Michel', 18, 7),\n",
    "    ('Sheli', 17, 5) ]\n",
    "  \n",
    "  # create DataFrame using data\n",
    "df = pd.DataFrame(data, columns =['Team', 'Age', 'Score'])\n",
    "  \n",
    "a = df.pivot('Team', 'Score','Age')\n",
    "print(a)"
   ]
  },
  {
   "cell_type": "code",
   "execution_count": 37,
   "id": "2a2ac422",
   "metadata": {},
   "outputs": [
    {
     "name": "stdout",
     "output_type": "stream",
     "text": [
      "       Geeks    For geeks\n",
      "1  dataframe  using  list\n",
      "2         10     20    30 \n",
      "\n",
      "       Geeks    For geeks\n",
      "0  dataframe  using  list\n",
      "1         10     20    30 \n",
      "\n",
      "       Geeks    For geeks\n",
      "0  dataframe  using  list\n",
      "1         10     20    30 \n",
      "\n",
      "       Geeks    For geeks\n",
      "0  dataframe  using  list\n",
      "1         10     20    30 \n",
      "\n"
     ]
    }
   ],
   "source": [
    "# Initialise data to lists.\n",
    "data = [{'Geeks': 'dataframe', 'For': 'using', 'geeks': 'list'},\n",
    "        {'Geeks':10, 'For': 20, 'geeks': 30}]\n",
    " \n",
    "df = pd.DataFrame.from_records(data,index=['1', '2'])\n",
    "print(df,'\\n')\n",
    " \n",
    "df = pd.DataFrame.from_dict(data)\n",
    "print(df,'\\n')\n",
    "\n",
    "df=pd.json_normalize(data)\n",
    "print(df,'\\n')\n",
    "\n",
    "df = pd.DataFrame(data)\n",
    "print(df,'\\n')\n"
   ]
  },
  {
   "cell_type": "code",
   "execution_count": 43,
   "id": "fc8ed435",
   "metadata": {},
   "outputs": [
    {
     "name": "stdout",
     "output_type": "stream",
     "text": [
      "   Exam Grade           Name\n",
      "0    90     a     Paras Jain\n",
      "1    99     b     Paras Jain\n",
      "2    97     c     Paras Jain\n",
      "3    89     a  Chunky Pandey\n",
      "4    80     b  Chunky Pandey \n",
      " \n",
      "\n",
      "            Name  Maths  Physics  Chemistry\n",
      "0  Chunky Pandey   89.0     80.0        NaN\n",
      "1     Paras Jain   90.0     99.0       97.0 \n",
      " \n",
      "\n"
     ]
    }
   ],
   "source": [
    "# List of nested dictionary initialization\n",
    "list = [\n",
    "        {\n",
    "        \"Student\": [{\"Exam\": 90, \"Grade\": \"a\"},\n",
    "                    {\"Exam\": 99, \"Grade\": \"b\"},\n",
    "                    {\"Exam\": 97, \"Grade\": \"c\"},\n",
    "                   ],\n",
    "        \"Name\": \"Paras Jain\"\n",
    "        },\n",
    "        {\n",
    "        \"Student\": [{\"Exam\": 89, \"Grade\": \"a\"},\n",
    "                    {\"Exam\": 80, \"Grade\": \"b\"}\n",
    "                   ],\n",
    "        \"Name\": \"Chunky Pandey\"\n",
    "        }\n",
    "       ]\n",
    "  \n",
    "#print(list)\n",
    "# rows list initialization\n",
    "rows = []\n",
    "  \n",
    "# appending rows\n",
    "for data in list:\n",
    "    data_row = data['Student']\n",
    "    time = data['Name']\n",
    "      \n",
    "    for row in data_row:\n",
    "        row['Name']= time\n",
    "        rows.append(row)\n",
    "  \n",
    "# using data frame\n",
    "df = pd.DataFrame(rows)\n",
    "print(df, '\\n \\n')\n",
    "\n",
    "# using pivot_table\n",
    "df = df.pivot_table(index ='Name', columns =['Grade'],\n",
    "                        values =['Exam']).reset_index()\n",
    "  \n",
    "# Defining columns\n",
    "df.columns =['Name', 'Maths', 'Physics', 'Chemistry']\n",
    "  \n",
    "# print dataframe\n",
    "print(df,'\\n \\n')\n"
   ]
  },
  {
   "cell_type": "code",
   "execution_count": 45,
   "id": "48ea35eb",
   "metadata": {},
   "outputs": [
    {
     "name": "stdout",
     "output_type": "stream",
     "text": [
      "                City        Event   Cost\n",
      "2018-02     New York        Music  10000\n",
      "2018-04      Parague       Poetry   5000\n",
      "2018-06    New Delhi      Theatre  15000\n",
      "2018-10       Venice       Comedy   2000\n",
      "2018-12  new Orleans  Tech_Summit  12000 \n",
      "\n",
      "                 City        Event   Cost\n",
      "2018-02     New_ York        Music  10000\n",
      "2018-04       Parague       Poetry   5000\n",
      "2018-06    New_ Delhi      Theatre  15000\n",
      "2018-10        Venice       Comedy   2000\n",
      "2018-12  New_ Orleans  Tech_Summit  12000 \n",
      "\n"
     ]
    }
   ],
   "source": [
    "# Let's create a Dataframe\n",
    "df = pd.DataFrame({'City':['New York', 'Parague', 'New Delhi', 'Venice', 'new Orleans'],\n",
    "                    'Event':['Music', 'Poetry', 'Theatre', 'Comedy', 'Tech_Summit'],\n",
    "                    'Cost':[10000, 5000, 15000, 2000, 12000]})\n",
    "  \n",
    "# Let's create the index\n",
    "index_ = [pd.Period('02-2018'), pd.Period('04-2018'),\n",
    "          pd.Period('06-2018'), pd.Period('10-2018'), pd.Period('12-2018')]\n",
    "  \n",
    "# Set the index\n",
    "df.index = index_\n",
    "  \n",
    "# Let's print the dataframe\n",
    "print(df, '\\n')\n",
    "\n",
    "df = df.replace(to_replace ='[nN]ew', value = 'New_', regex = True)\n",
    "print(df, '\\n')"
   ]
  },
  {
   "cell_type": "code",
   "execution_count": 56,
   "id": "31366611",
   "metadata": {},
   "outputs": [
    {
     "data": {
      "text/html": [
       "<div>\n",
       "<style scoped>\n",
       "    .dataframe tbody tr th:only-of-type {\n",
       "        vertical-align: middle;\n",
       "    }\n",
       "\n",
       "    .dataframe tbody tr th {\n",
       "        vertical-align: top;\n",
       "    }\n",
       "\n",
       "    .dataframe thead th {\n",
       "        text-align: right;\n",
       "    }\n",
       "</style>\n",
       "<table border=\"1\" class=\"dataframe\">\n",
       "  <thead>\n",
       "    <tr style=\"text-align: right;\">\n",
       "      <th></th>\n",
       "      <th>Author</th>\n",
       "      <th>Article</th>\n",
       "      <th>Age</th>\n",
       "    </tr>\n",
       "  </thead>\n",
       "  <tbody>\n",
       "    <tr>\n",
       "      <th>0</th>\n",
       "      <td>Jitender</td>\n",
       "      <td>210</td>\n",
       "      <td>21.0</td>\n",
       "    </tr>\n",
       "    <tr>\n",
       "      <th>1</th>\n",
       "      <td>Purnima</td>\n",
       "      <td>211</td>\n",
       "      <td>21.0</td>\n",
       "    </tr>\n",
       "    <tr>\n",
       "      <th>2</th>\n",
       "      <td>Arpit</td>\n",
       "      <td>114</td>\n",
       "      <td>23.0</td>\n",
       "    </tr>\n",
       "    <tr>\n",
       "      <th>3</th>\n",
       "      <td>Jyoti</td>\n",
       "      <td>178</td>\n",
       "      <td>NaN</td>\n",
       "    </tr>\n",
       "  </tbody>\n",
       "</table>\n",
       "</div>"
      ],
      "text/plain": [
       "     Author  Article   Age\n",
       "0  Jitender      210  21.0\n",
       "1   Purnima      211  21.0\n",
       "2     Arpit      114  23.0\n",
       "3     Jyoti      178   NaN"
      ]
     },
     "execution_count": 56,
     "metadata": {},
     "output_type": "execute_result"
    }
   ],
   "source": [
    "df1 = pd.Series(['Jitender','Purnima','Arpit','Jyoti'])\n",
    "df2 = pd.Series([210,211,114,178])\n",
    "df = pd.DataFrame({'Author': df1,'Article':df2 })\n",
    "age = [21,21,23]\n",
    "df3=pd.Series(age)\n",
    "df['Age']=df3\n",
    "df['Age'].astype('float')\n",
    "df"
   ]
  },
  {
   "cell_type": "code",
   "execution_count": 59,
   "id": "9207e4c6",
   "metadata": {},
   "outputs": [
    {
     "name": "stdout",
     "output_type": "stream",
     "text": [
      "            Date    Event   Cost\n",
      "0      10/2/2011    Music  10000\n",
      "1      11/2/2011   Poetry  12000\n",
      "2      12/2/2011  Theatre   5000\n",
      "3      13/2/2011   Comedy   8000 \n",
      " \n",
      "\n"
     ]
    }
   ],
   "source": [
    "# import the StrinIO function\n",
    "# from io module\n",
    "from io import StringIO\n",
    " \n",
    "# wrap the string data in StringIO function\n",
    "StringData = StringIO(\"\"\"Date;Event;Cost\n",
    "    10/2/2011;Music;10000\n",
    "    11/2/2011;Poetry;12000\n",
    "    12/2/2011;Theatre;5000\n",
    "    13/2/2011;Comedy;8000\n",
    "    \"\"\")\n",
    " \n",
    "# let's read the data using the Pandas\n",
    "# read_csv() function\n",
    "df = pd.read_csv(StringData, sep =\";\")\n",
    " \n",
    "# Print the dataframe\n",
    "print(df,'\\n \\n')\n",
    "\n",
    "\n"
   ]
  },
  {
   "cell_type": "code",
   "execution_count": 65,
   "id": "c61bc226",
   "metadata": {},
   "outputs": [
    {
     "name": "stdout",
     "output_type": "stream",
     "text": [
      "        Date     Product  Updated_Price  Discount\n",
      "0  10/2/2011    UMbreLla           1250        10\n",
      "1  11/2/2011    maTtress           1450         8\n",
      "2  12/2/2011  BaDmintoN            1550        15\n",
      "3  13/2/2011     Shuttle            400        10 \n",
      " \n",
      "\n",
      "        Date    Product  Updated_Price  Discount\n",
      "0  10/2/2011   Umbrella           1250        10\n",
      "1  11/2/2011   Mattress           1450         8\n",
      "2  12/2/2011  Badminton           1550        15\n",
      "3  13/2/2011    Shuttle            400        10 \n",
      " \n",
      "\n",
      "        Date    Product  Updated_Price  Discount\n",
      "0  10/2/2011   Umbrella           1250        10\n",
      "1  11/2/2011   Mattress           1450         8\n",
      "2  12/2/2011  Badminton           1550        15\n",
      "3  13/2/2011    Shuttle            400        10 \n",
      " \n",
      "\n"
     ]
    }
   ],
   "source": [
    "# Create the dataframe\n",
    "df = pd.DataFrame({'Date':['10/2/2011', '11/2/2011', '12/2/2011', '13/2/2011'],\n",
    "                   'Product':[' UMbreLla', '  maTtress', 'BaDmintoN ', 'Shuttle'],\n",
    "                   'Updated_Price':[1250, 1450, 1550, 400],\n",
    "                   'Discount':[10, 8, 15, 10]})\n",
    " \n",
    "# Print the dataframe\n",
    "#capitalize() returns a string where the first character is upper case, and the rest is lower case.\n",
    "print(df,'\\n \\n')\n",
    "for i in range(df.shape[0]):\n",
    "    df.iat[i, 1]= df.iat[i, 1].strip().capitalize()        \n",
    "print(df,'\\n \\n')\n",
    "\n",
    "df['Product'] = df['Product'].apply(lambda x : x.strip().capitalize())\n",
    "print(df, '\\n \\n')"
   ]
  },
  {
   "cell_type": "code",
   "execution_count": 79,
   "id": "ccc27db8",
   "metadata": {},
   "outputs": [
    {
     "name": "stdout",
     "output_type": "stream",
     "text": [
      "          a         b         c         d         e\n",
      "A  0.869706  0.792029  0.984968  0.590480  0.440888\n",
      "B  0.223426  0.642966  0.318618  0.725404  0.786895\n",
      "C  0.440590  0.939629  0.030255  0.307267  0.030574\n",
      "D  0.708488  0.207521  0.430225  0.991939  0.227100\n",
      "E  0.081127  0.894253  0.642914  0.669404  0.911878 \n",
      "\n",
      "\n",
      "\n",
      "\n",
      "Dataframe after reindexing rows: \n",
      "           a         b         c         d         e\n",
      "B  0.223426  0.642966  0.318618  0.725404  0.786895\n",
      "D  0.708488  0.207521  0.430225  0.991939  0.227100\n",
      "A  0.869706  0.792029  0.984968  0.590480  0.440888\n",
      "C  0.440590  0.939629  0.030255  0.307267  0.030574\n",
      "E  0.081127  0.894253  0.642914  0.669404  0.911878\n"
     ]
    },
    {
     "data": {
      "text/html": [
       "<div>\n",
       "<style scoped>\n",
       "    .dataframe tbody tr th:only-of-type {\n",
       "        vertical-align: middle;\n",
       "    }\n",
       "\n",
       "    .dataframe tbody tr th {\n",
       "        vertical-align: top;\n",
       "    }\n",
       "\n",
       "    .dataframe thead th {\n",
       "        text-align: right;\n",
       "    }\n",
       "</style>\n",
       "<table border=\"1\" class=\"dataframe\">\n",
       "  <thead>\n",
       "    <tr style=\"text-align: right;\">\n",
       "      <th></th>\n",
       "      <th>a</th>\n",
       "      <th>b</th>\n",
       "      <th>c</th>\n",
       "      <th>g</th>\n",
       "      <th>h</th>\n",
       "    </tr>\n",
       "  </thead>\n",
       "  <tbody>\n",
       "    <tr>\n",
       "      <th>A</th>\n",
       "      <td>0.869706</td>\n",
       "      <td>0.792029</td>\n",
       "      <td>0.984968</td>\n",
       "      <td>data missing</td>\n",
       "      <td>data missing</td>\n",
       "    </tr>\n",
       "    <tr>\n",
       "      <th>B</th>\n",
       "      <td>0.223426</td>\n",
       "      <td>0.642966</td>\n",
       "      <td>0.318618</td>\n",
       "      <td>data missing</td>\n",
       "      <td>data missing</td>\n",
       "    </tr>\n",
       "    <tr>\n",
       "      <th>C</th>\n",
       "      <td>0.440590</td>\n",
       "      <td>0.939629</td>\n",
       "      <td>0.030255</td>\n",
       "      <td>data missing</td>\n",
       "      <td>data missing</td>\n",
       "    </tr>\n",
       "    <tr>\n",
       "      <th>D</th>\n",
       "      <td>0.708488</td>\n",
       "      <td>0.207521</td>\n",
       "      <td>0.430225</td>\n",
       "      <td>data missing</td>\n",
       "      <td>data missing</td>\n",
       "    </tr>\n",
       "    <tr>\n",
       "      <th>E</th>\n",
       "      <td>0.081127</td>\n",
       "      <td>0.894253</td>\n",
       "      <td>0.642914</td>\n",
       "      <td>data missing</td>\n",
       "      <td>data missing</td>\n",
       "    </tr>\n",
       "  </tbody>\n",
       "</table>\n",
       "</div>"
      ],
      "text/plain": [
       "          a         b         c             g             h\n",
       "A  0.869706  0.792029  0.984968  data missing  data missing\n",
       "B  0.223426  0.642966  0.318618  data missing  data missing\n",
       "C  0.440590  0.939629  0.030255  data missing  data missing\n",
       "D  0.708488  0.207521  0.430225  data missing  data missing\n",
       "E  0.081127  0.894253  0.642914  data missing  data missing"
      ]
     },
     "execution_count": 79,
     "metadata": {},
     "output_type": "execute_result"
    }
   ],
   "source": [
    "index_ = ['A','B','C','D','E']\n",
    "col_ = ['a','b','c','d','e']\n",
    "df = pd.DataFrame(np.random.rand(5,5), index=index_, columns=col_)\n",
    "print(df,'\\n\\n')\n",
    "\n",
    "# reindex- Change row order / column order\n",
    "print('\\n\\nDataframe after reindexing rows: \\n',\n",
    "df.reindex(['B', 'D', 'A', 'C', 'E']))\n",
    "\n",
    "df.reindex(['U','A','B','C','Z'])\n",
    "\n",
    "df.reindex(['e','a','c','b','d'], axis='columns')\n",
    "df.reindex(['a','b','c','g','h'], axis='columns', fill_value='data missing')  # fillna(1.5)\n"
   ]
  },
  {
   "cell_type": "code",
   "execution_count": 83,
   "id": "793db6cb",
   "metadata": {},
   "outputs": [
    {
     "name": "stdout",
     "output_type": "stream",
     "text": [
      "  First_name Last_name  Age    City Qualification\n",
      "0        Ram     Kumar   42  Mumbai         B.Com\n",
      "1      Mohan    Sharma   52   Noida           IAS\n",
      "2       Tina       Ali   36    Pune           LLB\n",
      "3      Jeetu    Gandhi   21   Delhi        B.Tech\n",
      "4      Meera    Kumari   23   Bihar          MBBS \n",
      " \n",
      "\n",
      "  First_name Last_name  Age    City Qualification\n",
      "0        Ram     Kumar   42  Mumbai         B.Com\n",
      "1      Mohan    Sharma   52   Noida           IAS\n",
      "2       Tina       Ali   36    Pune           LLB\n",
      "3      Jeetu    Gandhi   21   Delhi        B.Tech\n",
      "4      Meera    Kumari   23   Bihar          MBBS\n",
      "\n",
      "  First_name Last_name  Age    City Qualification\n",
      "0      Shyam     Kumar   42  Mumbai         B.Com\n",
      "1      Mohan    Sharma   52   Noida           IAS\n",
      "2       Riya       Ali   36    Pune           LLB\n",
      "3   Jitender    Gandhi   21   Delhi        B.Tech\n",
      "4      Meera    Kumari   23   Bihar          MBBS \n",
      "\n",
      "\n"
     ]
    }
   ],
   "source": [
    "initial_data = {'First_name': ['Ram', 'Mohan', 'Tina', 'Jeetu', 'Meera'], \n",
    "        'Last_name': ['Kumar', 'Sharma', 'Ali', 'Gandhi', 'Kumari'], \n",
    "        'Age': [42, 52, 36, 21, 23], \n",
    "        'City': ['Mumbai', 'Noida', 'Pune', 'Delhi', 'Bihar']}\n",
    "df = pd.DataFrame(initial_data)\n",
    "\n",
    "# Create new column using dictionary\n",
    "new_data = { \n",
    "             \"Mohan\":\"IAS\",\n",
    "             \"Ram\":\"B.Com\",\n",
    "             \"Tina\":\"LLB\",\n",
    "             \"Jeetu\":\"B.Tech\",\n",
    "             \"Meera\":\"MBBS\" }\n",
    "  \n",
    "# combine this new data with existing DataFrame\n",
    "df[\"Qualification\"] = df[\"First_name\"].map(new_data)\n",
    "print(df,'\\n \\n')\n",
    "\n",
    "new_data = { \"Ram\":\"Shyam\",\n",
    "             \"Tina\":\"Riya\",\n",
    "             \"Jeetu\":\"Jitender\" }\n",
    "  \n",
    "print(df, end =\"\\n\\n\")\n",
    "  \n",
    "# combine this new data with existing DataFrame\n",
    "df = df.replace({\"First_name\":new_data})\n",
    "print(df,'\\n\\n')"
   ]
  },
  {
   "cell_type": "code",
   "execution_count": 87,
   "id": "23d86917",
   "metadata": {},
   "outputs": [
    {
     "name": "stdout",
     "output_type": "stream",
     "text": [
      "            Name            Team  Number Position   Age Height  Weight  \\\n",
      "0  Avery Bradley  Boston Celtics     0.0       PG  25.0    6-2   180.0   \n",
      "1    Jae Crowder  Boston Celtics    99.0       SF  25.0    6-6   235.0   \n",
      "2   John Holland  Boston Celtics    30.0       SG  27.0    6-5   205.0   \n",
      "3    R.J. Hunter  Boston Celtics    28.0       SG  22.0    6-5   185.0   \n",
      "4  Jonas Jerebko  Boston Celtics     8.0       PF  29.0   6-10   231.0   \n",
      "\n",
      "             College     Salary  \n",
      "0              Texas  7730337.0  \n",
      "1          Marquette  6796117.0  \n",
      "2  Boston University        NaN  \n",
      "3      Georgia State  1148640.0  \n",
      "4                NaN  5000000.0  \n"
     ]
    },
    {
     "data": {
      "text/plain": [
       "0  Name         Avery Bradley\n",
       "   Team        Boston Celtics\n",
       "   Number                 0.0\n",
       "   Position                PG\n",
       "   Age                   25.0\n",
       "   Height                 6-2\n",
       "   Weight               180.0\n",
       "   College              Texas\n",
       "   Salary           7730337.0\n",
       "1  Name           Jae Crowder\n",
       "   Team        Boston Celtics\n",
       "   Number                99.0\n",
       "   Position                SF\n",
       "   Age                   25.0\n",
       "   Height                 6-6\n",
       "dtype: object"
      ]
     },
     "execution_count": 87,
     "metadata": {},
     "output_type": "execute_result"
    }
   ],
   "source": [
    "df = pd.read_csv(\"https://media.geeksforgeeks.org/wp-content/uploads/nba.csv\")\n",
    "  \n",
    "# it was print the first 5-rows\n",
    "print(df.head()) \n",
    "\n",
    "df.stack().head(15)\n",
    "# stack() method\n",
    "# Stack method works with the MultiIndex objects in DataFrame, it returning a DataFrame with an index with a new inner-most level of row labels. It changes the wide table to a long table.\n",
    "\n",
    "# unstack() method:\n",
    "# unstack is similar to stack method, It also works with multi-index objects in dataframe, producing a reshaped DataFrame with a new inner-most level of column labels.\n",
    "\n",
    "# melt() method:\n",
    "# Melt in pandas reshape dataframe from wide format to long format. It uses the “id_vars[‘col_names’]” for melt the dataframe by column names."
   ]
  },
  {
   "cell_type": "code",
   "execution_count": 98,
   "id": "d4dc8ec5",
   "metadata": {},
   "outputs": [
    {
     "name": "stdout",
     "output_type": "stream",
     "text": [
      "     Name  Age    Address Qualification\n",
      "a     Jai   27      Delhi           Msc\n",
      "b  Princi   24     Kanpur            MA\n",
      "c  Gaurav   22  Allahabad           MCA\n",
      "d    Anuj   32    Kannauj           Phd\n",
      "e   Geeku   15      Noida          10th \n",
      "\n",
      "\n",
      "  index    Name  Age    Address Qualification\n",
      "0     a     Jai   27      Delhi           Msc\n",
      "1     b  Princi   24     Kanpur            MA\n",
      "2     c  Gaurav   22  Allahabad           MCA\n",
      "3     d    Anuj   32    Kannauj           Phd\n",
      "4     e   Geeku   15      Noida          10th\n"
     ]
    }
   ],
   "source": [
    "data = {'Name':['Jai', 'Princi', 'Gaurav', 'Anuj', 'Geeku'],\n",
    "        'Age':[27, 24, 22, 32, 15],\n",
    "        'Address':['Delhi', 'Kanpur', 'Allahabad', 'Kannauj', 'Noida'],\n",
    "        'Qualification':['Msc', 'MA', 'MCA', 'Phd', '10th'] }\n",
    "  \n",
    "index = ['a', 'b', 'c', 'd', 'e']\n",
    "  \n",
    "# Convert the dictionary into DataFrame \n",
    "df = pd.DataFrame(data, index=index)\n",
    "print(df,'\\n\\n')  \n",
    "# Make Own Index as index\n",
    "# In this case default index is exist \n",
    "df.reset_index(inplace = True)\n",
    "print(df)"
   ]
  },
  {
   "cell_type": "code",
   "execution_count": 100,
   "id": "bcc0f137",
   "metadata": {},
   "outputs": [
    {
     "data": {
      "text/html": [
       "<div>\n",
       "<style scoped>\n",
       "    .dataframe tbody tr th:only-of-type {\n",
       "        vertical-align: middle;\n",
       "    }\n",
       "\n",
       "    .dataframe tbody tr th {\n",
       "        vertical-align: top;\n",
       "    }\n",
       "\n",
       "    .dataframe thead th {\n",
       "        text-align: right;\n",
       "    }\n",
       "</style>\n",
       "<table border=\"1\" class=\"dataframe\">\n",
       "  <thead>\n",
       "    <tr style=\"text-align: right;\">\n",
       "      <th></th>\n",
       "      <th>Col1</th>\n",
       "      <th>Col_2</th>\n",
       "    </tr>\n",
       "  </thead>\n",
       "  <tbody>\n",
       "    <tr>\n",
       "      <th>row_1</th>\n",
       "      <td>Tom</td>\n",
       "      <td>15</td>\n",
       "    </tr>\n",
       "    <tr>\n",
       "      <th>row_2</th>\n",
       "      <td>Nick</td>\n",
       "      <td>26</td>\n",
       "    </tr>\n",
       "    <tr>\n",
       "      <th>row_3</th>\n",
       "      <td>John</td>\n",
       "      <td>17</td>\n",
       "    </tr>\n",
       "    <tr>\n",
       "      <th>row_4</th>\n",
       "      <td>Peter</td>\n",
       "      <td>28</td>\n",
       "    </tr>\n",
       "  </tbody>\n",
       "</table>\n",
       "</div>"
      ],
      "text/plain": [
       "        Col1  Col_2\n",
       "row_1    Tom     15\n",
       "row_2   Nick     26\n",
       "row_3   John     17\n",
       "row_4  Peter     28"
      ]
     },
     "execution_count": 100,
     "metadata": {},
     "output_type": "execute_result"
    }
   ],
   "source": [
    "# Create a dataFrame using dictionary\n",
    "df=pd.DataFrame({\"Name\":['Tom','Nick','John','Peter'],\n",
    "                 \"Age\":[15,26,17,28]})\n",
    "  \n",
    "# Creates a dataFrame with\n",
    "# 2 columns and 4 rows\n",
    "df.index=['row_1','row_2','row_3','row_4']\n",
    "df.columns=['Col1','Col_2']\n",
    "# df = df.rename(columns={'Col_1':'New_Col_1'})\n",
    "df = df.rename(columns = {\"Col_1\":\"Mod_col\"})\n",
    "df"
   ]
  },
  {
   "cell_type": "code",
   "execution_count": 38,
   "id": "0be8334e",
   "metadata": {},
   "outputs": [
    {
     "name": "stdout",
     "output_type": "stream",
     "text": [
      "                 date  data\n",
      "0 2019-01-01 00:00:00    14\n",
      "1 2019-01-01 00:01:00    18\n",
      "2 2019-01-01 00:02:00    68\n",
      "3 2019-01-01 00:03:00    67\n",
      "4 2019-01-01 00:04:00    60\n",
      "5 2019-01-01 00:05:00    54\n",
      "6 2019-01-01 00:06:00    78\n",
      "7 2019-01-01 00:07:00    29\n",
      "8 2019-01-01 00:08:00     5\n",
      "9 2019-01-01 00:09:00    44\n"
     ]
    }
   ],
   "source": [
    "from datetime import datetime\n",
    "import numpy as np\n",
    " \n",
    "\n",
    "\n",
    "range_date = pd.date_range(start ='1/1/2019', end ='1/08/2019',\n",
    "                                                   freq ='Min')\n",
    " \n",
    "df = pd.DataFrame(range_date, columns =['date'])\n",
    "df['data'] = np.random.randint(0, 100, size =(len(range_date)))\n",
    " \n",
    "print(df.head(10))"
   ]
  },
  {
   "cell_type": "markdown",
   "id": "13554dc9",
   "metadata": {},
   "source": [
    "# df.iterrows() -  iterate over rows in Pandas Dataframe\n",
    "  df['ColumnName'][Rownumber] == df.loc[Rownumber,'ColumnName'] == df.iloc[Rownumber,Colnumber]     -    \n",
    "  df['name'][0]=df.loc[0,'name']=Sujeet"
   ]
  },
  {
   "cell_type": "code",
   "execution_count": 11,
   "id": "0c334fcc",
   "metadata": {},
   "outputs": [
    {
     "name": "stdout",
     "output_type": "stream",
     "text": [
      "Original DataFrame: \n",
      "      name  age\n",
      "0  Sujeet   10\n",
      "1  Sameer   11\n",
      "2   Sumit   12 (3, 2)\n",
      "\n",
      "Rows iterated using iterrows() : \n",
      "Sujeet 10 0\n",
      "Sameer 11 1\n",
      "Sumit 12 2\n"
     ]
    }
   ],
   "source": [
    "\n",
    "# list of dicts\n",
    "input_df = [{'name':'Sujeet', 'age':10},\n",
    "            {'name':'Sameer', 'age':11},\n",
    "            {'name':'Sumit', 'age':12}]\n",
    " \n",
    "df = pd.DataFrame(input_df)\n",
    "print('Original DataFrame: \\n', df, df.shape)\n",
    "\n",
    "\n",
    "print('\\nRows iterated using iterrows() : ')\n",
    "for index, row in df.iterrows():\n",
    "    print(row['name'], row['age'])"
   ]
  },
  {
   "cell_type": "code",
   "execution_count": 12,
   "id": "3809989e",
   "metadata": {},
   "outputs": [
    {
     "name": "stdout",
     "output_type": "stream",
     "text": [
      "Given Dataframe :\n",
      "         Name  Age    Stream  Percentage\n",
      "0      Ankit   21      Math          88\n",
      "1       Amit   19  Commerce          92\n",
      "2  Aishwarya   20      Arts          95\n",
      "3   Priyanka   18   Biology          70\n",
      "\n",
      "Iterating over rows using index attribute :\n",
      "\n",
      "Ankit Math\n",
      "Amit Commerce\n",
      "Aishwarya Arts\n",
      "Priyanka Biology\n"
     ]
    }
   ],
   "source": [
    "# Define a dictionary containing students data\n",
    "data = {'Name': ['Ankit', 'Amit',\n",
    "                 'Aishwarya', 'Priyanka'],\n",
    "        'Age': [21, 19, 20, 18],\n",
    "        'Stream': ['Math', 'Commerce',\n",
    "                   'Arts', 'Biology'],\n",
    "        'Percentage': [88, 92, 95, 70]}\n",
    "  \n",
    "# Convert the dictionary into DataFrame\n",
    "df = pd.DataFrame(data, columns=['Name', 'Age', \n",
    "                                 'Stream', 'Percentage'])\n",
    "  \n",
    "print(\"Given Dataframe :\\n\", df)\n",
    "  \n",
    "print(\"\\nIterating over rows using index attribute :\\n\")\n",
    "  \n",
    "# iterate through each row and select\n",
    "# 'Name' and 'Stream' column respectively.\n",
    "for ind in df.index:\n",
    "    print(df['Name'][ind], df['Stream'][ind])"
   ]
  },
  {
   "cell_type": "markdown",
   "id": "e0f07e38",
   "metadata": {},
   "source": [
    "# Selecting rows in pandas DataFrame based on conditions\n",
    "isin() , ~isin()"
   ]
  },
  {
   "cell_type": "code",
   "execution_count": 36,
   "id": "953bb361",
   "metadata": {},
   "outputs": [
    {
     "name": "stdout",
     "output_type": "stream",
     "text": [
      "        Name  Age    Stream  Percentage\n",
      "0      Ankit   21      Math          88\n",
      "1       Amit   19  Commerce          92\n",
      "2  Aishwarya   20   Science          95 \n",
      "\n",
      "        Name  Age    Stream  Percentage\n",
      "0      Ankit   21      Math          88\n",
      "1       Amit   19  Commerce          92\n",
      "2  Aishwarya   20   Science          95 \n",
      "\n",
      "       Name  Age    Stream  Percentage\n",
      "0     Ankit   21      Math          88\n",
      "1      Amit   19  Commerce          92\n",
      "3  Priyanka   18      Math          70\n",
      "4     Priya   17      Math          65 \n",
      "\n",
      "        Name  Age   Stream  Percentage\n",
      "2  Aishwarya   20  Science          95\n",
      "5    Shaurya   21  Science          78 \n",
      "\n",
      "two conditions     Name  Age Stream  Percentage\n",
      "0  Ankit   21   Math          88 \n",
      "\n"
     ]
    },
    {
     "data": {
      "text/html": [
       "<div>\n",
       "<style scoped>\n",
       "    .dataframe tbody tr th:only-of-type {\n",
       "        vertical-align: middle;\n",
       "    }\n",
       "\n",
       "    .dataframe tbody tr th {\n",
       "        vertical-align: top;\n",
       "    }\n",
       "\n",
       "    .dataframe thead th {\n",
       "        text-align: right;\n",
       "    }\n",
       "</style>\n",
       "<table border=\"1\" class=\"dataframe\">\n",
       "  <thead>\n",
       "    <tr style=\"text-align: right;\">\n",
       "      <th></th>\n",
       "      <th>Name</th>\n",
       "      <th>Age</th>\n",
       "      <th>Stream</th>\n",
       "      <th>Percentage</th>\n",
       "    </tr>\n",
       "  </thead>\n",
       "  <tbody>\n",
       "    <tr>\n",
       "      <th>0</th>\n",
       "      <td>Ankit</td>\n",
       "      <td>21</td>\n",
       "      <td>Math</td>\n",
       "      <td>88</td>\n",
       "    </tr>\n",
       "    <tr>\n",
       "      <th>1</th>\n",
       "      <td>Amit</td>\n",
       "      <td>19</td>\n",
       "      <td>Commerce</td>\n",
       "      <td>92</td>\n",
       "    </tr>\n",
       "    <tr>\n",
       "      <th>2</th>\n",
       "      <td>Aishwarya</td>\n",
       "      <td>20</td>\n",
       "      <td>Science</td>\n",
       "      <td>95</td>\n",
       "    </tr>\n",
       "    <tr>\n",
       "      <th>3</th>\n",
       "      <td>Priyanka</td>\n",
       "      <td>18</td>\n",
       "      <td>Math</td>\n",
       "      <td>70</td>\n",
       "    </tr>\n",
       "    <tr>\n",
       "      <th>4</th>\n",
       "      <td>Priya</td>\n",
       "      <td>17</td>\n",
       "      <td>Math</td>\n",
       "      <td>65</td>\n",
       "    </tr>\n",
       "    <tr>\n",
       "      <th>5</th>\n",
       "      <td>Shaurya</td>\n",
       "      <td>21</td>\n",
       "      <td>Science</td>\n",
       "      <td>78</td>\n",
       "    </tr>\n",
       "  </tbody>\n",
       "</table>\n",
       "</div>"
      ],
      "text/plain": [
       "        Name  Age    Stream  Percentage\n",
       "0      Ankit   21      Math          88\n",
       "1       Amit   19  Commerce          92\n",
       "2  Aishwarya   20   Science          95\n",
       "3   Priyanka   18      Math          70\n",
       "4      Priya   17      Math          65\n",
       "5    Shaurya   21   Science          78"
      ]
     },
     "execution_count": 36,
     "metadata": {},
     "output_type": "execute_result"
    }
   ],
   "source": [
    "record = {\n",
    " 'Name': ['Ankit', 'Amit', 'Aishwarya', 'Priyanka', 'Priya', 'Shaurya' ],\n",
    " 'Age': [21, 19, 20, 18, 17, 21],\n",
    " 'Stream': ['Math', 'Commerce', 'Science', 'Math', 'Math', 'Science'],\n",
    " 'Percentage': [88, 92, 95, 70, 65, 78] \n",
    "}\n",
    "\n",
    "options = ['Math', 'Commerce']\n",
    "\n",
    "# create a dataframe\n",
    "dataframe = pd.DataFrame(record, columns = ['Name', 'Age', 'Stream', 'Percentage'])\n",
    "\n",
    "print(dataframe[dataframe['Percentage'] > 80], '\\n')\n",
    "print(dataframe.loc[dataframe['Percentage'] > 80], '\\n')\n",
    "\n",
    "print(dataframe.loc[dataframe['Stream'].isin(options)],'\\n')\n",
    "print(dataframe.loc[~dataframe['Stream'].isin(options)],'\\n')\n",
    "print(\"two conditions\",dataframe.loc[(dataframe['Stream'].isin(options)) &( dataframe['Age']==21) ],'\\n')\n",
    "dataframe"
   ]
  },
  {
   "cell_type": "markdown",
   "id": "2f6b3f46",
   "metadata": {},
   "source": [
    "# Drop a give column in DataFram -  df.drop([col index])   \n",
    "\n",
    "Insert row at given position in Pandas Dataframe\n",
    "\n",
    "Ranking \n",
    "\n",
    "Sorting\n",
    "\n",
    "Max = df.max()"
   ]
  },
  {
   "cell_type": "code",
   "execution_count": 50,
   "id": "84660617",
   "metadata": {},
   "outputs": [
    {
     "name": "stdout",
     "output_type": "stream",
     "text": [
      "        Date    Event   Cost\n",
      "0  10/2/2011    Music  10000\n",
      "1  12/2/2011   Poetry   5000\n",
      "2  13/2/2011  Theatre  15000\n",
      "3  14/2/2011   Comedy   2000\n"
     ]
    },
    {
     "data": {
      "text/html": [
       "<div>\n",
       "<style scoped>\n",
       "    .dataframe tbody tr th:only-of-type {\n",
       "        vertical-align: middle;\n",
       "    }\n",
       "\n",
       "    .dataframe tbody tr th {\n",
       "        vertical-align: top;\n",
       "    }\n",
       "\n",
       "    .dataframe thead th {\n",
       "        text-align: right;\n",
       "    }\n",
       "</style>\n",
       "<table border=\"1\" class=\"dataframe\">\n",
       "  <thead>\n",
       "    <tr style=\"text-align: right;\">\n",
       "      <th></th>\n",
       "      <th>Date</th>\n",
       "      <th>Event</th>\n",
       "      <th>Cost</th>\n",
       "    </tr>\n",
       "  </thead>\n",
       "  <tbody>\n",
       "    <tr>\n",
       "      <th>0</th>\n",
       "      <td>10/2/2011</td>\n",
       "      <td>Music</td>\n",
       "      <td>10000</td>\n",
       "    </tr>\n",
       "    <tr>\n",
       "      <th>1</th>\n",
       "      <td>12/2/2011</td>\n",
       "      <td>Poetry</td>\n",
       "      <td>5000</td>\n",
       "    </tr>\n",
       "    <tr>\n",
       "      <th>2</th>\n",
       "      <td>11/2/2011</td>\n",
       "      <td>Wrestling</td>\n",
       "      <td>12000</td>\n",
       "    </tr>\n",
       "    <tr>\n",
       "      <th>3</th>\n",
       "      <td>14/2/2011</td>\n",
       "      <td>Comedy</td>\n",
       "      <td>2000</td>\n",
       "    </tr>\n",
       "  </tbody>\n",
       "</table>\n",
       "</div>"
      ],
      "text/plain": [
       "        Date      Event   Cost\n",
       "0  10/2/2011      Music  10000\n",
       "1  12/2/2011     Poetry   5000\n",
       "2  11/2/2011  Wrestling  12000\n",
       "3  14/2/2011     Comedy   2000"
      ]
     },
     "execution_count": 50,
     "metadata": {},
     "output_type": "execute_result"
    }
   ],
   "source": [
    "df = pd.DataFrame({'Date':['10/2/2011', '12/2/2011', '13/2/2011', '14/2/2011'],\n",
    "                    'Event':['Music', 'Poetry', 'Theatre', 'Comedy'],\n",
    "                    'Cost':[10000, 5000, 15000, 2000]})\n",
    " \n",
    "# Let's visualize the dataframe\n",
    "print(df)\n",
    "row_value = ['11/2/2011', 'Wrestling', 12000]\n",
    "df.loc[3:] = df.loc[2:]\n",
    "df.loc[2] = row_value\n",
    "df"
   ]
  },
  {
   "cell_type": "code",
   "execution_count": 59,
   "id": "245ddb63",
   "metadata": {},
   "outputs": [
    {
     "name": "stdout",
     "output_type": "stream",
     "text": [
      "            Name  Year Rating\n",
      "0  The Godfather  1972    9.2\n",
      "1       Bird Box  2018    6.8\n",
      "2     Fight Club  1999    8.8\n"
     ]
    },
    {
     "data": {
      "text/html": [
       "<div>\n",
       "<style scoped>\n",
       "    .dataframe tbody tr th:only-of-type {\n",
       "        vertical-align: middle;\n",
       "    }\n",
       "\n",
       "    .dataframe tbody tr th {\n",
       "        vertical-align: top;\n",
       "    }\n",
       "\n",
       "    .dataframe thead th {\n",
       "        text-align: right;\n",
       "    }\n",
       "</style>\n",
       "<table border=\"1\" class=\"dataframe\">\n",
       "  <thead>\n",
       "    <tr style=\"text-align: right;\">\n",
       "      <th></th>\n",
       "      <th>Name</th>\n",
       "      <th>Year</th>\n",
       "      <th>Rating</th>\n",
       "    </tr>\n",
       "    <tr>\n",
       "      <th>Ranking</th>\n",
       "      <th></th>\n",
       "      <th></th>\n",
       "      <th></th>\n",
       "    </tr>\n",
       "  </thead>\n",
       "  <tbody>\n",
       "    <tr>\n",
       "      <th>1.0</th>\n",
       "      <td>The Godfather</td>\n",
       "      <td>1972</td>\n",
       "      <td>9.2</td>\n",
       "    </tr>\n",
       "    <tr>\n",
       "      <th>2.0</th>\n",
       "      <td>Fight Club</td>\n",
       "      <td>1999</td>\n",
       "      <td>8.8</td>\n",
       "    </tr>\n",
       "    <tr>\n",
       "      <th>3.0</th>\n",
       "      <td>Bird Box</td>\n",
       "      <td>2018</td>\n",
       "      <td>6.8</td>\n",
       "    </tr>\n",
       "  </tbody>\n",
       "</table>\n",
       "</div>"
      ],
      "text/plain": [
       "                  Name  Year Rating\n",
       "Ranking                            \n",
       "1.0      The Godfather  1972    9.2\n",
       "2.0         Fight Club  1999    8.8\n",
       "3.0           Bird Box  2018    6.8"
      ]
     },
     "execution_count": 59,
     "metadata": {},
     "output_type": "execute_result"
    }
   ],
   "source": [
    "movies = {'Name': ['The Godfather', 'Bird Box', 'Fight Club'],\n",
    "         'Year': ['1972', '2018', '1999'],\n",
    "         'Rating': ['9.2', '6.8', '8.8']}\n",
    "  \n",
    "df = pd.DataFrame(movies)\n",
    "print(df)\n",
    "\n",
    "df['Ranking'] = df['Rating'].rank(ascending=False)\n",
    "df = df.set_index('Ranking')\n",
    "df = df.sort_index()\n",
    "df"
   ]
  },
  {
   "cell_type": "code",
   "execution_count": 73,
   "id": "02f8e221",
   "metadata": {},
   "outputs": [
    {
     "name": "stdout",
     "output_type": "stream",
     "text": [
      "Sorting rows by Science:\n",
      " \n",
      "      name  Maths  Science  English\n",
      "3    Alex      9        4        6\n",
      "2  Gaurav      6        5        7\n",
      "4  Selena      7        7        8\n",
      "0   Simon      8        7        7\n",
      "1   Marsh      5        9        4\n"
     ]
    },
    {
     "data": {
      "text/html": [
       "<div>\n",
       "<style scoped>\n",
       "    .dataframe tbody tr th:only-of-type {\n",
       "        vertical-align: middle;\n",
       "    }\n",
       "\n",
       "    .dataframe tbody tr th {\n",
       "        vertical-align: top;\n",
       "    }\n",
       "\n",
       "    .dataframe thead th {\n",
       "        text-align: right;\n",
       "    }\n",
       "</style>\n",
       "<table border=\"1\" class=\"dataframe\">\n",
       "  <thead>\n",
       "    <tr style=\"text-align: right;\">\n",
       "      <th></th>\n",
       "      <th>name</th>\n",
       "      <th>Maths</th>\n",
       "      <th>Science</th>\n",
       "      <th>English</th>\n",
       "    </tr>\n",
       "  </thead>\n",
       "  <tbody>\n",
       "    <tr>\n",
       "      <th>3</th>\n",
       "      <td>Alex</td>\n",
       "      <td>9</td>\n",
       "      <td>4</td>\n",
       "      <td>6</td>\n",
       "    </tr>\n",
       "  </tbody>\n",
       "</table>\n",
       "</div>"
      ],
      "text/plain": [
       "   name  Maths  Science  English\n",
       "3  Alex      9        4        6"
      ]
     },
     "execution_count": 73,
     "metadata": {},
     "output_type": "execute_result"
    }
   ],
   "source": [
    "data = {'name': ['Simon', 'Marsh', 'Gaurav', 'Alex', 'Selena'], \n",
    "        'Maths': [8, 5, 6, 9, 7], \n",
    "        'Science': [7, 9, 5, 4, 7],\n",
    "        'English': [7, 4, 7, 6, 8]}\n",
    "  \n",
    "df = pd.DataFrame(data)\n",
    "  \n",
    "# Sort the dataframe’s rows by Science,\n",
    "# in descending order\n",
    "a = df.sort_values(by =['Science','Maths'])\n",
    "# a = df.sort_values(by ='Science', na_position ='first' )   #If you want missing values first\n",
    "print(\"Sorting rows by Science:\\n \\n\", a)\n",
    "\n",
    "\n",
    "# the row with the Max of a spesific column\n",
    "df[df['Maths'] == df['Maths'].max()]  \n"
   ]
  },
  {
   "cell_type": "code",
   "execution_count": 80,
   "id": "0adb16b0",
   "metadata": {},
   "outputs": [
    {
     "name": "stdout",
     "output_type": "stream",
     "text": [
      "       Name    Team Position  Number  Age Height  Weight   College  Salary\n",
      "ind1  Geeks  Boston       PG       3   33    6-2      89       MIT   99999\n",
      "ind2  Peter  Boston       PG       4   25    6-4      79       MIT   99994\n",
      "ind3  James  Boston       UG       7   34    5-9     113       MIT   89999\n",
      "ind4   Jack   Chele       PG      11   35    6-1      78  Stanford   78889\n",
      "ind5   Lisa   Barse       UG       5   28    5-8      84  Stanford   87779 \n",
      "\n",
      "Check PG values in Position column:\n",
      " ind1     True\n",
      "ind2     True\n",
      "ind3    False\n",
      "ind4     True\n",
      "ind5    False\n",
      "Name: Position, dtype: bool\n",
      "       Name    Team Position  Number  Age Height  Weight   College  Salary\n",
      "ind1  Geeks  Boston       PG       3   33    6-2      89       MIT   99999\n",
      "ind2  Peter  Boston       PG       4   25    6-4      79       MIT   99994\n",
      "ind4   Jack   Chele       PG      11   35    6-1      78  Stanford   78889\n"
     ]
    }
   ],
   "source": [
    "# Creating the dataframe with dict of lists\n",
    "df = pd.DataFrame({'Name': ['Geeks', 'Peter', 'James', 'Jack', 'Lisa'],\n",
    "                   'Team': ['Boston', 'Boston', 'Boston', 'Chele', 'Barse'],\n",
    "                   'Position': ['PG', 'PG', 'UG', 'PG', 'UG'],\n",
    "                   'Number': [3, 4, 7, 11, 5],\n",
    "                   'Age': [33, 25, 34, 35, 28],\n",
    "                   'Height': ['6-2', '6-4', '5-9', '6-1', '5-8'],\n",
    "                   'Weight': [89, 79, 113, 78, 84],\n",
    "                   'College': ['MIT', 'MIT', 'MIT', 'Stanford', 'Stanford'],\n",
    "                   'Salary': [99999, 99994, 89999, 78889, 87779]},\n",
    "                   index =['ind1', 'ind2', 'ind3', 'ind4', 'ind5'])\n",
    "print(df, \"\\n\")\n",
    "\n",
    "print(\"Check PG values in Position column:\\n\", df['Position'].str.contains(\"PG\"))\n",
    "print(df[df['Position'].str.contains('PG')])"
   ]
  },
  {
   "cell_type": "code",
   "execution_count": 85,
   "id": "15d1939a",
   "metadata": {},
   "outputs": [
    {
     "name": "stderr",
     "output_type": "stream",
     "text": [
      "C:\\Users\\amins\\AppData\\Local\\Temp\\ipykernel_20376\\4043173772.py:10: FutureWarning: In a future version of pandas all arguments of DataFrame.pivot will be keyword-only.\n",
      "  df = df.pivot('Result','Name','Branch')\n"
     ]
    },
    {
     "data": {
      "text/html": [
       "<div>\n",
       "<style scoped>\n",
       "    .dataframe tbody tr th:only-of-type {\n",
       "        vertical-align: middle;\n",
       "    }\n",
       "\n",
       "    .dataframe tbody tr th {\n",
       "        vertical-align: top;\n",
       "    }\n",
       "\n",
       "    .dataframe thead th {\n",
       "        text-align: right;\n",
       "    }\n",
       "</style>\n",
       "<table border=\"1\" class=\"dataframe\">\n",
       "  <thead>\n",
       "    <tr style=\"text-align: right;\">\n",
       "      <th>Name</th>\n",
       "      <th>Akash</th>\n",
       "      <th>Geeku</th>\n",
       "      <th>Pankaj</th>\n",
       "      <th>Ramlal</th>\n",
       "      <th>Sumitra</th>\n",
       "    </tr>\n",
       "    <tr>\n",
       "      <th>Result</th>\n",
       "      <th></th>\n",
       "      <th></th>\n",
       "      <th></th>\n",
       "      <th></th>\n",
       "      <th></th>\n",
       "    </tr>\n",
       "  </thead>\n",
       "  <tbody>\n",
       "    <tr>\n",
       "      <th>Fail</th>\n",
       "      <td>NaN</td>\n",
       "      <td>NaN</td>\n",
       "      <td>NaN</td>\n",
       "      <td>BCA</td>\n",
       "      <td>B.Tech</td>\n",
       "    </tr>\n",
       "    <tr>\n",
       "      <th>Pass</th>\n",
       "      <td>B.Tech</td>\n",
       "      <td>MBA</td>\n",
       "      <td>BCA</td>\n",
       "      <td>NaN</td>\n",
       "      <td>NaN</td>\n",
       "    </tr>\n",
       "  </tbody>\n",
       "</table>\n",
       "</div>"
      ],
      "text/plain": [
       "Name     Akash Geeku Pankaj Ramlal Sumitra\n",
       "Result                                    \n",
       "Fail       NaN   NaN    NaN    BCA  B.Tech\n",
       "Pass    B.Tech   MBA    BCA    NaN     NaN"
      ]
     },
     "execution_count": 85,
     "metadata": {},
     "output_type": "execute_result"
    }
   ],
   "source": [
    "# Creating a dict of lists\n",
    "data = {'Name':[\"Akash\", \"Geeku\", \"Pankaj\", \"Sumitra\",\"Ramlal\"],\n",
    "       'Branch':[\"B.Tech\", \"MBA\", \"BCA\", \"B.Tech\", \"BCA\"],\n",
    "       'Score':[\"80\",\"90\",\"60\", \"30\", \"50\"],\n",
    "       'Result': [\"Pass\",\"Pass\",\"Pass\",\"Fail\",\"Fail\"]}\n",
    " \n",
    "# creating a dataframe\n",
    "df = pd.DataFrame(data)\n",
    "  \n",
    "df = df.pivot('Result','Name','Branch')\n",
    "df"
   ]
  },
  {
   "cell_type": "code",
   "execution_count": 87,
   "id": "11948e12",
   "metadata": {},
   "outputs": [
    {
     "name": "stdout",
     "output_type": "stream",
     "text": [
      "D     NaN\n",
      "E     NaN\n",
      "A    50.0\n",
      "dtype: float64\n"
     ]
    }
   ],
   "source": [
    "\n",
    "# import the pandas lib as pd\n",
    "import pandas as pd\n",
    "  \n",
    "# create a dictionary\n",
    "dictionary = {'A' : 50, 'B' : 10, 'C' : 80}\n",
    "  \n",
    "# create a series\n",
    "series = pd.Series(dictionary, index =['D', 'E', 'A'])\n",
    "  \n",
    "print(series)"
   ]
  },
  {
   "cell_type": "code",
   "execution_count": null,
   "id": "e4ac3ae9",
   "metadata": {},
   "outputs": [],
   "source": []
  }
 ],
 "metadata": {
  "kernelspec": {
   "display_name": "Python 3 (ipykernel)",
   "language": "python",
   "name": "python3"
  },
  "language_info": {
   "codemirror_mode": {
    "name": "ipython",
    "version": 3
   },
   "file_extension": ".py",
   "mimetype": "text/x-python",
   "name": "python",
   "nbconvert_exporter": "python",
   "pygments_lexer": "ipython3",
   "version": "3.11.1"
  }
 },
 "nbformat": 4,
 "nbformat_minor": 5
}
