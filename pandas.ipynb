{
 "cells": [
  {
   "cell_type": "code",
   "execution_count": null,
   "id": "71a63e19",
   "metadata": {},
   "outputs": [],
   "source": [
    "import pandas as pd\n",
    "pd."
   ]
  },
  {
   "cell_type": "markdown",
   "id": "394942c2",
   "metadata": {},
   "source": [
    "# create DF from a csv"
   ]
  },
  {
   "cell_type": "code",
   "execution_count": null,
   "id": "19bc11bc",
   "metadata": {},
   "outputs": [],
   "source": [
    "data = {'col1 first': [1,2,3,32,12,6 ,45], 'col2': [4,5,6,43, 7,78,9], 'col3': [7,8,8,8,32,87,8]}\n",
    "df = pd.DataFrame.from_dict(data) \n",
    "df"
   ]
  },
  {
   "cell_type": "code",
   "execution_count": null,
   "id": "049978e5",
   "metadata": {},
   "outputs": [],
   "source": [
    "df.dtypes"
   ]
  },
  {
   "cell_type": "code",
   "execution_count": null,
   "id": "2acdd212",
   "metadata": {},
   "outputs": [],
   "source": [
    "df.info()"
   ]
  },
  {
   "cell_type": "markdown",
   "id": "732c60f1",
   "metadata": {},
   "source": [
    "# summary statistics"
   ]
  },
  {
   "cell_type": "code",
   "execution_count": null,
   "id": "f7528521",
   "metadata": {},
   "outputs": [],
   "source": [
    "df.describe()"
   ]
  },
  {
   "cell_type": "markdown",
   "id": "dcf3007d",
   "metadata": {},
   "source": [
    "# Filtering columns"
   ]
  },
  {
   "cell_type": "code",
   "execution_count": null,
   "id": "8f8cfb94",
   "metadata": {},
   "outputs": [],
   "source": [
    "print(df['col1 first'])    # If there is a space, ' ' in the name\n",
    "print(df.col2)"
   ]
  },
  {
   "cell_type": "code",
   "execution_count": null,
   "id": "081bef63",
   "metadata": {},
   "outputs": [],
   "source": [
    "df[['col2', 'col3']]"
   ]
  },
  {
   "cell_type": "markdown",
   "id": "8ffc7518",
   "metadata": {},
   "source": [
    "# unique values of a column"
   ]
  },
  {
   "cell_type": "code",
   "execution_count": null,
   "id": "e16be4d9",
   "metadata": {},
   "outputs": [],
   "source": [
    "df.col3.unique()"
   ]
  },
  {
   "cell_type": "markdown",
   "id": "5785b2ba",
   "metadata": {},
   "source": [
    "# Filtering Rows"
   ]
  },
  {
   "cell_type": "code",
   "execution_count": null,
   "id": "0dd9199a",
   "metadata": {},
   "outputs": [],
   "source": [
    "# Grab rows that have a specific value for col3\n",
    "df[df['col3']==8]"
   ]
  },
  {
   "cell_type": "code",
   "execution_count": null,
   "id": "64d5fc50",
   "metadata": {},
   "outputs": [],
   "source": [
    "# Tow conditions\n",
    "df[(df['col3']==8) & (df['col2']!=5)]"
   ]
  },
  {
   "cell_type": "markdown",
   "id": "dd31ed57",
   "metadata": {},
   "source": [
    "# Indexing with iloc"
   ]
  },
  {
   "cell_type": "code",
   "execution_count": null,
   "id": "d4c16113",
   "metadata": {},
   "outputs": [],
   "source": [
    "# Point to a row\n",
    "df.iloc[-1]"
   ]
  },
  {
   "cell_type": "code",
   "execution_count": null,
   "id": "a7e8e0bc",
   "metadata": {},
   "outputs": [],
   "source": [
    "# Poin to a cell of dataframe\n",
    "df.iloc[1,2]"
   ]
  },
  {
   "cell_type": "markdown",
   "id": "84bff596",
   "metadata": {},
   "source": [
    "# Indexing with loc"
   ]
  },
  {
   "cell_type": "code",
   "execution_count": null,
   "id": "919d26d9",
   "metadata": {},
   "outputs": [],
   "source": [
    "state = df.copy()\n",
    "state.set_index('col1 first', inplace=True)\n",
    "state"
   ]
  },
  {
   "cell_type": "code",
   "execution_count": null,
   "id": "94d59dab",
   "metadata": {},
   "outputs": [],
   "source": [
    "state.loc[32]"
   ]
  },
  {
   "cell_type": "markdown",
   "id": "3afd7d11",
   "metadata": {},
   "source": [
    "# Dropping Rows"
   ]
  },
  {
   "cell_type": "code",
   "execution_count": null,
   "id": "5fdf37f2",
   "metadata": {},
   "outputs": [],
   "source": [
    "df.isnull()"
   ]
  },
  {
   "cell_type": "code",
   "execution_count": null,
   "id": "8531b0bc",
   "metadata": {},
   "outputs": [],
   "source": [
    "df.isnull().sum()"
   ]
  },
  {
   "cell_type": "code",
   "execution_count": null,
   "id": "1a6b902d",
   "metadata": {},
   "outputs": [],
   "source": [
    "# Dropp All the rows that have null values\n",
    "df.dropna(inplace=True)"
   ]
  },
  {
   "cell_type": "markdown",
   "id": "390f0000",
   "metadata": {},
   "source": [
    "# Dropping Columns"
   ]
  },
  {
   "cell_type": "code",
   "execution_count": null,
   "id": "6812df3c",
   "metadata": {},
   "outputs": [],
   "source": [
    "df.drop('col1 first', axis=1)"
   ]
  },
  {
   "cell_type": "markdown",
   "id": "5667ffc7",
   "metadata": {},
   "source": [
    "# Creating calculated column"
   ]
  },
  {
   "cell_type": "code",
   "execution_count": null,
   "id": "8f8c9d38",
   "metadata": {},
   "outputs": [],
   "source": [
    "df['col4'] = df['col2']+df['col3']\n",
    "df"
   ]
  },
  {
   "cell_type": "markdown",
   "id": "2abea2c1",
   "metadata": {},
   "source": [
    "# Updating all column"
   ]
  },
  {
   "cell_type": "code",
   "execution_count": null,
   "id": "fd801bdc",
   "metadata": {},
   "outputs": [],
   "source": [
    "df['col4'] = [(str(data) + 'total') for data in df['col4']]\n",
    "df"
   ]
  },
  {
   "cell_type": "markdown",
   "id": "92d71572",
   "metadata": {},
   "source": [
    "# Updating a single value"
   ]
  },
  {
   "cell_type": "code",
   "execution_count": null,
   "id": "926c7bca",
   "metadata": {},
   "outputs": [],
   "source": [
    "df.iloc[0,-1] = 'TOTAL'\n",
    "df"
   ]
  },
  {
   "cell_type": "markdown",
   "id": "133ab390",
   "metadata": {},
   "source": [
    "# Condition based updating using Apply"
   ]
  },
  {
   "cell_type": "code",
   "execution_count": null,
   "id": "f6d83889",
   "metadata": {},
   "outputs": [],
   "source": [
    "df['col4'] = df['col4'].apply(lambda x: 1 if x=='14total' else 0) \n",
    "df"
   ]
  },
  {
   "cell_type": "markdown",
   "id": "4ff11f2e",
   "metadata": {},
   "source": [
    "# Output to CSV"
   ]
  },
  {
   "cell_type": "code",
   "execution_count": null,
   "id": "21d89d5e",
   "metadata": {},
   "outputs": [],
   "source": [
    "df.to_csv('output.csv')\n",
    "df.to_json()\n",
    "df.to_html()"
   ]
  },
  {
   "cell_type": "markdown",
   "id": "16882970",
   "metadata": {},
   "source": [
    "# Delete a DF"
   ]
  },
  {
   "cell_type": "code",
   "execution_count": null,
   "id": "797f395b",
   "metadata": {},
   "outputs": [],
   "source": [
    "del df"
   ]
  },
  {
   "cell_type": "code",
   "execution_count": null,
   "id": "1961729e",
   "metadata": {},
   "outputs": [],
   "source": []
  }
 ],
 "metadata": {
  "kernelspec": {
   "display_name": "Python 3 (ipykernel)",
   "language": "python",
   "name": "python3"
  },
  "language_info": {
   "codemirror_mode": {
    "name": "ipython",
    "version": 3
   },
   "file_extension": ".py",
   "mimetype": "text/x-python",
   "name": "python",
   "nbconvert_exporter": "python",
   "pygments_lexer": "ipython3",
   "version": "3.9.13"
  }
 },
 "nbformat": 4,
 "nbformat_minor": 5
}
